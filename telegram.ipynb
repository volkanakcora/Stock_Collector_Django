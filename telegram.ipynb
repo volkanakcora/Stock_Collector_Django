{
 "cells": [
  {
   "cell_type": "code",
   "execution_count": 3,
   "metadata": {},
   "outputs": [
    {
     "name": "stderr",
     "output_type": "stream",
     "text": [
      "/tmp/ipykernel_11503/91549895.py:10: RuntimeWarning: coroutine 'Bot.send_message' was never awaited\n",
      "  bot.send_message(text=text, chat_id=chat_id)\n",
      "RuntimeWarning: Enable tracemalloc to get the object allocation traceback\n"
     ]
    }
   ],
   "source": [
    "import telegram\n",
    "\n",
    "TOKEN = \"7480981898:AAGPeGGhwoCwr0_sVilgCIfW7KNRIPsUaaQ\"\n",
    "chat_id = '880066564'\n",
    "# Channel ID Sample: -1001829542722\n",
    "\n",
    "bot = telegram.Bot(token=TOKEN)\n",
    "\n",
    "def send_message(text, chat_id):\n",
    "    bot.send_message(text=text, chat_id=chat_id)\n",
    "\n",
    "\n",
    "def main():\n",
    "    # Sending a message\n",
    "    send_message(text='Hi Sujit!, How are you?', chat_id=chat_id)\n",
    "\n",
    "if __name__ == '__main__':\n",
    "    main()\n",
    "\n",
    "bot.send"
   ]
  },
  {
   "cell_type": "code",
   "execution_count": 4,
   "metadata": {},
   "outputs": [
    {
     "name": "stdout",
     "output_type": "stream",
     "text": [
      "{'ok': True, 'result': {'message_id': 13, 'from': {'id': 7480981898, 'is_bot': True, 'first_name': 'operator', 'username': 'analytics_bot_bot'}, 'chat': {'id': -1002197644920, 'title': 'stock', 'type': 'supergroup'}, 'date': 1718542523, 'text': 'Hello, this is a message from my bot!'}}\n"
     ]
    }
   ],
   "source": [
    "import requests\n",
    "\n",
    "# Telegram Bot API token\n",
    "TOKEN = '7480981898:AAGPeGGhwoCwr0_sVilgCIfW7KNRIPsUaaQ'\n",
    "\n",
    "# Group chat_id\n",
    "CHAT_ID = '-1002197644920'\n",
    "\n",
    "# URL for the Telegram Bot API\n",
    "url = f'https://api.telegram.org/bot{TOKEN}/sendMessage'\n",
    "\n",
    "# Message to send\n",
    "message = 'Hello, this is a message from my bot!'\n",
    "\n",
    "# Send message\n",
    "payload = {\n",
    "    'chat_id': CHAT_ID,\n",
    "    'text': message\n",
    "}\n",
    "\n",
    "response = requests.post(url, json=payload)\n",
    "print(response.json())\n"
   ]
  }
 ],
 "metadata": {
  "kernelspec": {
   "display_name": "venv",
   "language": "python",
   "name": "python3"
  },
  "language_info": {
   "codemirror_mode": {
    "name": "ipython",
    "version": 3
   },
   "file_extension": ".py",
   "mimetype": "text/x-python",
   "name": "python",
   "nbconvert_exporter": "python",
   "pygments_lexer": "ipython3",
   "version": "3.9.18"
  }
 },
 "nbformat": 4,
 "nbformat_minor": 2
}
